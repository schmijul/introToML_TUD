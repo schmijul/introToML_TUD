{
 "cells": [
  {
   "cell_type": "code",
   "execution_count": 1,
   "id": "7aafd481-7592-465d-97e1-5e951d25d265",
   "metadata": {},
   "outputs": [],
   "source": [
    "# imports for data handling, network definition, and training\n",
    "import torch\n",
    "from torch import nn\n",
    "from torch.utils.data import DataLoader\n",
    "from torchvision import datasets\n",
    "from torchvision.transforms import ToTensor\n",
    "# imports for illustrations\n",
    "from tqdm.notebook import tqdm\n",
    "import numpy as np\n",
    "import matplotlib.pyplot as plt"
   ]
  },
  {
   "cell_type": "code",
   "execution_count": 2,
   "id": "8c578166-705b-4388-8d18-b4bdbc07d5c7",
   "metadata": {},
   "outputs": [
    {
     "name": "stdout",
     "output_type": "stream",
     "text": [
      "Downloading http://yann.lecun.com/exdb/mnist/train-images-idx3-ubyte.gz\n",
      "Downloading http://yann.lecun.com/exdb/mnist/train-images-idx3-ubyte.gz to data/MNIST/raw/train-images-idx3-ubyte.gz\n"
     ]
    },
    {
     "name": "stderr",
     "output_type": "stream",
     "text": [
      "100%|██████████| 9912422/9912422 [00:00<00:00, 42343440.16it/s]\n"
     ]
    },
    {
     "name": "stdout",
     "output_type": "stream",
     "text": [
      "Extracting data/MNIST/raw/train-images-idx3-ubyte.gz to data/MNIST/raw\n",
      "\n",
      "Downloading http://yann.lecun.com/exdb/mnist/train-labels-idx1-ubyte.gz\n",
      "Downloading http://yann.lecun.com/exdb/mnist/train-labels-idx1-ubyte.gz to data/MNIST/raw/train-labels-idx1-ubyte.gz\n"
     ]
    },
    {
     "name": "stderr",
     "output_type": "stream",
     "text": [
      "100%|██████████| 28881/28881 [00:00<00:00, 70264323.56it/s]"
     ]
    },
    {
     "name": "stdout",
     "output_type": "stream",
     "text": [
      "Extracting data/MNIST/raw/train-labels-idx1-ubyte.gz to data/MNIST/raw\n",
      "\n",
      "Downloading http://yann.lecun.com/exdb/mnist/t10k-images-idx3-ubyte.gz\n"
     ]
    },
    {
     "name": "stderr",
     "output_type": "stream",
     "text": [
      "\n"
     ]
    },
    {
     "name": "stdout",
     "output_type": "stream",
     "text": [
      "Downloading http://yann.lecun.com/exdb/mnist/t10k-images-idx3-ubyte.gz to data/MNIST/raw/t10k-images-idx3-ubyte.gz\n"
     ]
    },
    {
     "name": "stderr",
     "output_type": "stream",
     "text": [
      "100%|██████████| 1648877/1648877 [00:00<00:00, 13893023.24it/s]\n"
     ]
    },
    {
     "name": "stdout",
     "output_type": "stream",
     "text": [
      "Extracting data/MNIST/raw/t10k-images-idx3-ubyte.gz to data/MNIST/raw\n",
      "\n",
      "Downloading http://yann.lecun.com/exdb/mnist/t10k-labels-idx1-ubyte.gz\n",
      "Downloading http://yann.lecun.com/exdb/mnist/t10k-labels-idx1-ubyte.gz to data/MNIST/raw/t10k-labels-idx1-ubyte.gz\n"
     ]
    },
    {
     "name": "stderr",
     "output_type": "stream",
     "text": [
      "100%|██████████| 4542/4542 [00:00<00:00, 6403539.08it/s]\n"
     ]
    },
    {
     "name": "stdout",
     "output_type": "stream",
     "text": [
      "Extracting data/MNIST/raw/t10k-labels-idx1-ubyte.gz to data/MNIST/raw\n",
      "\n"
     ]
    }
   ],
   "source": [
    "# read MNIST training data\n",
    "train_data = datasets.MNIST(\n",
    "    root=\"data\",\n",
    "    train=True,\n",
    "    download=True,\n",
    "    transform=ToTensor(),\n",
    ")\n",
    "\n",
    "# read MNIST test data\n",
    "test_data = datasets.MNIST(\n",
    "    root=\"data\",\n",
    "    train=False,\n",
    "    download=True,\n",
    "    transform=ToTensor(),\n",
    ")"
   ]
  },
  {
   "cell_type": "code",
   "execution_count": 3,
   "id": "c98a5cba-eb49-4261-acbb-2c83d91481f5",
   "metadata": {},
   "outputs": [],
   "source": [
    "# define network model class\n",
    "class MLP(nn.Module):\n",
    "    def __init__(self, n_input, n_output, hidden_layers):\n",
    "        super(MLP, self).__init__()\n",
    "        self.n_input = n_input\n",
    "        self.n_output = n_output\n",
    "        self.hidden_layers = hidden_layers\n",
    "        self.layers = nn.ModuleList()\n",
    "        self.layers.append(nn.Linear(self.n_input, self.hidden_layers[0]))\n",
    "        for i in range(len(self.hidden_layers)-1):\n",
    "            self.layers.append(nn.Linear(self.hidden_layers[i], self.hidden_layers[i+1]))\n",
    "        self.layers.append(nn.Linear(self.hidden_layers[-1], self.n_output))\n",
    "        \n",
    "        \n",
    "    def forward(self, x):\n",
    "        x = x.view(-1, self.n_input)\n",
    "        for layer in self.layers[:-1]:\n",
    "            x = torch.relu(layer(x))\n",
    "        x = torch.softmax(self.layers[-1](x))\n",
    "        return x\n"
   ]
  },
  {
   "cell_type": "code",
   "execution_count": 4,
   "id": "c3bf1321-f37f-4882-acc6-465fd1c9b06e",
   "metadata": {},
   "outputs": [],
   "source": [
    "# define training loop\n",
    "def train_loop(dataloader, model, loss_fn, optimizer):\n",
    "    size = len(dataloader.dataset)\n",
    "    train_loss, correct = 0, 0\n",
    "    for batch, (X, y) in enumerate(dataloader):\n",
    "        # Compute prediction and loss\n",
    "        pred = model(X)\n",
    "        loss = loss_fn(pred, y)\n",
    "        train_loss += loss.item()\n",
    "        correct += (pred.argmax(1) == y).type(torch.float).sum().item()\n",
    "        # Backpropagation\n",
    "        optimizer.zero_grad()\n",
    "        loss.backward()\n",
    "        optimizer.step()\n",
    "    av_train_loss = train_loss / size\n",
    "    av_accuracy = correct / size\n",
    "    return av_train_loss, av_accuracy"
   ]
  },
  {
   "cell_type": "code",
   "execution_count": 5,
   "id": "6b055a06-2a3a-438b-8c3c-6dc6481b3d61",
   "metadata": {},
   "outputs": [],
   "source": [
    "# define testing loop\n",
    "def test_loop(dataloader, model, loss_fn):\n",
    "    size = len(dataloader.dataset)\n",
    "    test_loss, correct = 0, 0\n",
    "    with torch.no_grad():\n",
    "        for X, y in dataloader:\n",
    "            pred = model(X)\n",
    "            test_loss += loss_fn(pred, y).item()\n",
    "            correct += (pred.argmax(1) == y).type(torch.float).sum().item()\n",
    "    av_test_loss = test_loss / size\n",
    "    av_accuracy = correct / size\n",
    "\n",
    "\n",
    "    return av_test_loss, av_accuracy"
   ]
  },
  {
   "cell_type": "code",
   "execution_count": 6,
   "id": "3daffbff",
   "metadata": {},
   "outputs": [],
   "source": [
    "# define plot function\n",
    "def plot_accuracy(train_accuracy_log, test_accuracy_log):\n",
    "    plt.figure(figsize=(12,8))\n",
    "    plt.plot(train_accuracy_log, label='train')\n",
    "    plt.plot(test_accuracy_log, label='test')\n",
    "    plt.xlabel('Epoch')\n",
    "    plt.ylabel('Accuracy')\n",
    "    plt.legend()\n",
    "    plt.show()"
   ]
  },
  {
   "cell_type": "code",
   "execution_count": 7,
   "id": "3bb8f802",
   "metadata": {},
   "outputs": [
    {
     "data": {
      "text/plain": [
       "Dataset MNIST\n",
       "    Number of datapoints: 60000\n",
       "    Root location: data\n",
       "    Split: Train\n",
       "    StandardTransform\n",
       "Transform: ToTensor()"
      ]
     },
     "execution_count": 7,
     "metadata": {},
     "output_type": "execute_result"
    }
   ],
   "source": [
    "train_data"
   ]
  },
  {
   "cell_type": "code",
   "execution_count": 8,
   "id": "2f5cc519-d986-4142-8d86-a66447f08ad0",
   "metadata": {},
   "outputs": [
    {
     "ename": "TypeError",
     "evalue": "'int' object is not subscriptable",
     "output_type": "error",
     "traceback": [
      "\u001b[0;31m---------------------------------------------------------------------------\u001b[0m",
      "\u001b[0;31mTypeError\u001b[0m                                 Traceback (most recent call last)",
      "Cell \u001b[0;32mIn[8], line 11\u001b[0m\n\u001b[1;32m      7\u001b[0m hidden_layers \u001b[39m=\u001b[39m \u001b[39m2\u001b[39m\n\u001b[1;32m      9\u001b[0m \u001b[39m# model definition and initialization\u001b[39;00m\n\u001b[1;32m     10\u001b[0m \u001b[39m# without explicit weight/bias initialization the PyTorch default is used (Kaiming)\u001b[39;00m\n\u001b[0;32m---> 11\u001b[0m model \u001b[39m=\u001b[39m MLP(n_input, n_output, hidden_layers)    \n\u001b[1;32m     13\u001b[0m \u001b[39m# network training parameter specifications\u001b[39;00m\n\u001b[1;32m     14\u001b[0m batch_size \u001b[39m=\u001b[39m \u001b[39m124\u001b[39m\n",
      "Cell \u001b[0;32mIn[3], line 9\u001b[0m, in \u001b[0;36mMLP.__init__\u001b[0;34m(self, n_input, n_output, hidden_layers)\u001b[0m\n\u001b[1;32m      7\u001b[0m \u001b[39mself\u001b[39m\u001b[39m.\u001b[39mhidden_layers \u001b[39m=\u001b[39m hidden_layers\n\u001b[1;32m      8\u001b[0m \u001b[39mself\u001b[39m\u001b[39m.\u001b[39mlayers \u001b[39m=\u001b[39m nn\u001b[39m.\u001b[39mModuleList()\n\u001b[0;32m----> 9\u001b[0m \u001b[39mself\u001b[39m\u001b[39m.\u001b[39mlayers\u001b[39m.\u001b[39mappend(nn\u001b[39m.\u001b[39mLinear(\u001b[39mself\u001b[39m\u001b[39m.\u001b[39mn_input, \u001b[39mself\u001b[39;49m\u001b[39m.\u001b[39;49mhidden_layers[\u001b[39m0\u001b[39;49m]))\n\u001b[1;32m     10\u001b[0m \u001b[39mfor\u001b[39;00m i \u001b[39min\u001b[39;00m \u001b[39mrange\u001b[39m(\u001b[39mlen\u001b[39m(\u001b[39mself\u001b[39m\u001b[39m.\u001b[39mhidden_layers)\u001b[39m-\u001b[39m\u001b[39m1\u001b[39m):\n\u001b[1;32m     11\u001b[0m     \u001b[39mself\u001b[39m\u001b[39m.\u001b[39mlayers\u001b[39m.\u001b[39mappend(nn\u001b[39m.\u001b[39mLinear(\u001b[39mself\u001b[39m\u001b[39m.\u001b[39mhidden_layers[i], \u001b[39mself\u001b[39m\u001b[39m.\u001b[39mhidden_layers[i\u001b[39m+\u001b[39m\u001b[39m1\u001b[39m]))\n",
      "\u001b[0;31mTypeError\u001b[0m: 'int' object is not subscriptable"
     ]
    }
   ],
   "source": [
    "# network architecture parameter specifications\n",
    "# number input nodes\n",
    "n_input = 2\n",
    "# number output nodes\n",
    "n_output = 2\n",
    "# list with hidden layer specifications: [number hidden nodes, activation function] per layer\n",
    "hidden_layers = 2\n",
    "\n",
    "# model definition and initialization\n",
    "# without explicit weight/bias initialization the PyTorch default is used (Kaiming)\n",
    "model = MLP(n_input, n_output, hidden_layers)    \n",
    "\n",
    "# network training parameter specifications\n",
    "batch_size = 124\n",
    "learning_rate = 0.1\n",
    "momentum = 0.9\n",
    "epochs =  100\n",
    "\n",
    "# optimizer specification\n",
    "optimizer = torch.optim.SGD(model.parameters(), lr=learning_rate, momentum=momentum)\n",
    "\n",
    "# loss function specification\n",
    "loss_fn = nn.CrossEntropyLoss()\n",
    "\n",
    "# prepare data for training (partion data into minibatches)\n",
    "train_dataloader = DataLoader(train_data, batch_size=batch_size)\n",
    "test_dataloader = DataLoader(test_data, batch_size=batch_size)\n",
    "\n",
    "# prepare training / testing accuracy recording\n",
    "train_accuracy_log = []\n",
    "train_accuracy_log = []\n",
    "\n",
    "# training and testing \n",
    "for t in range(epochs):\n",
    "    print(f\"Epoch {t+1}\\n-------------------------------\")\n",
    "\n",
    "    av_train_loss, train_accuracy = train_loop(train_dataloader, model, loss_fn, optimizer)\n",
    "    av_test_loss, test_accuracy = test_loop(test_dataloader, model, loss_fn)\n",
    "    train_accuracy_log.append(train_accuracy)\n",
    "    test_accuracy_log.append(test_accuracy)\n",
    "    print(f\"Training Error: {av_train_loss:.4f}, Training Accuracy: {train_accuracy:.4f}\")"
   ]
  },
  {
   "cell_type": "code",
   "execution_count": null,
   "id": "7f8b81bf",
   "metadata": {},
   "outputs": [],
   "source": [
    "# plot training and testing accuracy over the number of epochs\n",
    "plot_accuracy(train_accuracy_log, test_accuracy_log)"
   ]
  }
 ],
 "metadata": {
  "kernelspec": {
   "display_name": "Python 3 (ipykernel)",
   "language": "python",
   "name": "python3"
  },
  "language_info": {
   "codemirror_mode": {
    "name": "ipython",
    "version": 3
   },
   "file_extension": ".py",
   "mimetype": "text/x-python",
   "name": "python",
   "nbconvert_exporter": "python",
   "pygments_lexer": "ipython3",
   "version": "3.11.2"
  }
 },
 "nbformat": 4,
 "nbformat_minor": 5
}
